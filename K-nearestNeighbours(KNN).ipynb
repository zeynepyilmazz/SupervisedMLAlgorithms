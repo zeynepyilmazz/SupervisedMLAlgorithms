{
 "cells": [
  {
   "cell_type": "markdown",
   "id": "5f0c9367",
   "metadata": {},
   "source": [
    "__(1) Find a data set and build a KNN Regression and an OLS regression. Compare the two. How similar are they? Do they miss in different ways?__"
   ]
  },
  {
   "cell_type": "markdown",
   "id": "a32813e4",
   "metadata": {},
   "source": [
    "# KNN Regression"
   ]
  },
  {
   "cell_type": "code",
   "execution_count": 65,
   "id": "a039dffd",
   "metadata": {},
   "outputs": [],
   "source": [
    "import pandas as pd\n",
    "import numpy as np\n",
    "import matplotlib.pyplot as plt\n",
    "from sklearn.datasets import load_boston\n",
    "from sklearn.model_selection import train_test_split\n",
    "import statsmodels.api as sm\n",
    "from statsmodels.tools.eval_measures import mse, rmse\n",
    "from sklearn import neighbors"
   ]
  },
  {
   "cell_type": "code",
   "execution_count": 66,
   "id": "caf14c38",
   "metadata": {},
   "outputs": [
    {
     "name": "stdout",
     "output_type": "stream",
     "text": [
      "train set : (404, 13)\n",
      "test set  : (102, 13)\n"
     ]
    }
   ],
   "source": [
    "X , Y = load_boston(return_X_y = True)\n",
    "X_train , X_test , Y_train , Y_test = train_test_split(X ,Y , test_size = 0.2 , random_state = 456)\n",
    "print(\"train set : {}\".format(X_train.shape))\n",
    "print(\"test set  : {}\".format(X_test.shape))"
   ]
  },
  {
   "cell_type": "code",
   "execution_count": 68,
   "id": "52238a9b",
   "metadata": {},
   "outputs": [
    {
     "name": "stdout",
     "output_type": "stream",
     "text": [
      "Train score : 0.7670931287282742\n",
      "Test  score : 0.5296574874082781\n",
      "Train root mean squared error : 4.48124775125643\n",
      "Test  root mean squared error : 6.028290240557506\n"
     ]
    }
   ],
   "source": [
    "knn = neighbors.KNeighborsRegressor(n_neighbors = 3 )\n",
    "knn.fit(X_train , Y_train)\n",
    "train_prediction = knn.predict(X_train)\n",
    "test_prediction = knn.predict(X_test)\n",
    "print(\"Train score : {}\".format(knn.score(X_train , Y_train)))\n",
    "print(\"Test  score : {}\".format(knn.score(X_test , Y_test)))\n",
    "print(\"Train root mean squared error : {}\".format(rmse(Y_train, train_prediction)))\n",
    "print(\"Test  root mean squared error : {}\".format(rmse(Y_test, test_prediction)))"
   ]
  },
  {
   "cell_type": "markdown",
   "id": "21c53a82",
   "metadata": {},
   "source": [
    "# KNN Regression with Normalization"
   ]
  },
  {
   "cell_type": "code",
   "execution_count": 69,
   "id": "dcd6e3f8",
   "metadata": {},
   "outputs": [],
   "source": [
    "from sklearn.preprocessing import StandardScaler\n",
    "from sklearn.preprocessing import scale\n",
    "X_scaler = X.copy()\n",
    "Y_scaler = Y.copy()\n",
    "X_scaler = X_scaler\n",
    "X_scaler = StandardScaler().fit_transform(X_scaler)"
   ]
  },
  {
   "cell_type": "code",
   "execution_count": 70,
   "id": "e363dd76",
   "metadata": {},
   "outputs": [
    {
     "name": "stdout",
     "output_type": "stream",
     "text": [
      "train set : (404, 13)\n",
      "test set  : (102, 13)\n"
     ]
    }
   ],
   "source": [
    "X_scaler_train , X_scaler_test , Y_scaler_train , Y_scaler_test = train_test_split(X_scaler ,Y_scaler , test_size = 0.2 , random_state = 456)\n",
    "print(\"train set : {}\".format(X_scaler_train.shape))\n",
    "print(\"test set  : {}\".format(X_scaler_test.shape))"
   ]
  },
  {
   "cell_type": "code",
   "execution_count": 71,
   "id": "79289ad6",
   "metadata": {},
   "outputs": [
    {
     "name": "stdout",
     "output_type": "stream",
     "text": [
      "Train score : 0.9043380345746105\n",
      "Test  score : 0.7637513106889198\n",
      "Train root mean squared error : 2.871953831780934\n",
      "Test  root mean squared error : 4.272398366206535\n"
     ]
    }
   ],
   "source": [
    "knn = neighbors.KNeighborsRegressor(n_neighbors = 3 )\n",
    "knn.fit(X_scaler_train , Y_scaler_train)\n",
    "train_prediction = knn.predict(X_scaler_train)\n",
    "test_prediction = knn.predict(X_scaler_test)\n",
    "print(\"Train score : {}\".format(knn.score(X_scaler_train , Y_scaler_train)))\n",
    "print(\"Test  score : {}\".format(knn.score(X_scaler_test , Y_scaler_test)))\n",
    "print(\"Train root mean squared error : {}\".format(rmse(Y_scaler_train, train_prediction)))\n",
    "print(\"Test  root mean squared error : {}\".format(rmse(Y_scaler_test, test_prediction)))"
   ]
  },
  {
   "cell_type": "markdown",
   "id": "868cebaa",
   "metadata": {},
   "source": [
    "# OLS Regression"
   ]
  },
  {
   "cell_type": "code",
   "execution_count": 72,
   "id": "c8f5c75a",
   "metadata": {},
   "outputs": [],
   "source": [
    "df = pd.DataFrame(X.copy())\n",
    "df['target'] = Y.copy()"
   ]
  },
  {
   "cell_type": "code",
   "execution_count": 73,
   "id": "742616d8",
   "metadata": {},
   "outputs": [],
   "source": [
    "df_Y = df['target']\n",
    "df_X = df.drop(['target',2,6] , axis = 1)"
   ]
  },
  {
   "cell_type": "code",
   "execution_count": 74,
   "id": "c462c6ea",
   "metadata": {},
   "outputs": [],
   "source": [
    "X_df_train , X_df_test , Y_df_train , Y_df_test = train_test_split(df_X , df_Y , test_size = 0.2 , random_state = 456)"
   ]
  },
  {
   "cell_type": "code",
   "execution_count": 75,
   "id": "c93b91e2",
   "metadata": {},
   "outputs": [
    {
     "data": {
      "text/html": [
       "<table class=\"simpletable\">\n",
       "<caption>OLS Regression Results</caption>\n",
       "<tr>\n",
       "  <th>Dep. Variable:</th>         <td>target</td>      <th>  R-squared:         </th> <td>   0.760</td> \n",
       "</tr>\n",
       "<tr>\n",
       "  <th>Model:</th>                   <td>OLS</td>       <th>  Adj. R-squared:    </th> <td>   0.753</td> \n",
       "</tr>\n",
       "<tr>\n",
       "  <th>Method:</th>             <td>Least Squares</td>  <th>  F-statistic:       </th> <td>   112.9</td> \n",
       "</tr>\n",
       "<tr>\n",
       "  <th>Date:</th>             <td>Tue, 15 Jun 2021</td> <th>  Prob (F-statistic):</th> <td>3.91e-114</td>\n",
       "</tr>\n",
       "<tr>\n",
       "  <th>Time:</th>                 <td>16:22:40</td>     <th>  Log-Likelihood:    </th> <td> -1185.2</td> \n",
       "</tr>\n",
       "<tr>\n",
       "  <th>No. Observations:</th>      <td>   404</td>      <th>  AIC:               </th> <td>   2394.</td> \n",
       "</tr>\n",
       "<tr>\n",
       "  <th>Df Residuals:</th>          <td>   392</td>      <th>  BIC:               </th> <td>   2442.</td> \n",
       "</tr>\n",
       "<tr>\n",
       "  <th>Df Model:</th>              <td>    11</td>      <th>                     </th>     <td> </td>    \n",
       "</tr>\n",
       "<tr>\n",
       "  <th>Covariance Type:</th>      <td>nonrobust</td>    <th>                     </th>     <td> </td>    \n",
       "</tr>\n",
       "</table>\n",
       "<table class=\"simpletable\">\n",
       "<tr>\n",
       "    <td></td>       <th>coef</th>     <th>std err</th>      <th>t</th>      <th>P>|t|</th>  <th>[0.025</th>    <th>0.975]</th>  \n",
       "</tr>\n",
       "<tr>\n",
       "  <th>const</th> <td>   35.7455</td> <td>    5.587</td> <td>    6.398</td> <td> 0.000</td> <td>   24.761</td> <td>   46.730</td>\n",
       "</tr>\n",
       "<tr>\n",
       "  <th>0</th>     <td>   -0.1104</td> <td>    0.037</td> <td>   -3.005</td> <td> 0.003</td> <td>   -0.183</td> <td>   -0.038</td>\n",
       "</tr>\n",
       "<tr>\n",
       "  <th>1</th>     <td>    0.0485</td> <td>    0.015</td> <td>    3.278</td> <td> 0.001</td> <td>    0.019</td> <td>    0.078</td>\n",
       "</tr>\n",
       "<tr>\n",
       "  <th>3</th>     <td>    2.4121</td> <td>    0.908</td> <td>    2.655</td> <td> 0.008</td> <td>    0.626</td> <td>    4.198</td>\n",
       "</tr>\n",
       "<tr>\n",
       "  <th>4</th>     <td>  -20.0254</td> <td>    3.923</td> <td>   -5.104</td> <td> 0.000</td> <td>  -27.738</td> <td>  -12.312</td>\n",
       "</tr>\n",
       "<tr>\n",
       "  <th>5</th>     <td>    4.0384</td> <td>    0.450</td> <td>    8.976</td> <td> 0.000</td> <td>    3.154</td> <td>    4.923</td>\n",
       "</tr>\n",
       "<tr>\n",
       "  <th>7</th>     <td>   -1.5944</td> <td>    0.206</td> <td>   -7.727</td> <td> 0.000</td> <td>   -2.000</td> <td>   -1.189</td>\n",
       "</tr>\n",
       "<tr>\n",
       "  <th>8</th>     <td>    0.2819</td> <td>    0.069</td> <td>    4.084</td> <td> 0.000</td> <td>    0.146</td> <td>    0.418</td>\n",
       "</tr>\n",
       "<tr>\n",
       "  <th>9</th>     <td>   -0.0116</td> <td>    0.004</td> <td>   -3.203</td> <td> 0.001</td> <td>   -0.019</td> <td>   -0.004</td>\n",
       "</tr>\n",
       "<tr>\n",
       "  <th>10</th>    <td>   -0.9127</td> <td>    0.142</td> <td>   -6.430</td> <td> 0.000</td> <td>   -1.192</td> <td>   -0.634</td>\n",
       "</tr>\n",
       "<tr>\n",
       "  <th>11</th>    <td>    0.0093</td> <td>    0.003</td> <td>    3.036</td> <td> 0.003</td> <td>    0.003</td> <td>    0.015</td>\n",
       "</tr>\n",
       "<tr>\n",
       "  <th>12</th>    <td>   -0.4940</td> <td>    0.053</td> <td>   -9.291</td> <td> 0.000</td> <td>   -0.598</td> <td>   -0.389</td>\n",
       "</tr>\n",
       "</table>\n",
       "<table class=\"simpletable\">\n",
       "<tr>\n",
       "  <th>Omnibus:</th>       <td>152.332</td> <th>  Durbin-Watson:     </th> <td>   1.815</td> \n",
       "</tr>\n",
       "<tr>\n",
       "  <th>Prob(Omnibus):</th> <td> 0.000</td>  <th>  Jarque-Bera (JB):  </th> <td> 717.608</td> \n",
       "</tr>\n",
       "<tr>\n",
       "  <th>Skew:</th>          <td> 1.576</td>  <th>  Prob(JB):          </th> <td>1.49e-156</td>\n",
       "</tr>\n",
       "<tr>\n",
       "  <th>Kurtosis:</th>      <td> 8.718</td>  <th>  Cond. No.          </th> <td>1.49e+04</td> \n",
       "</tr>\n",
       "</table><br/><br/>Notes:<br/>[1] Standard Errors assume that the covariance matrix of the errors is correctly specified.<br/>[2] The condition number is large, 1.49e+04. This might indicate that there are<br/>strong multicollinearity or other numerical problems."
      ],
      "text/plain": [
       "<class 'statsmodels.iolib.summary.Summary'>\n",
       "\"\"\"\n",
       "                            OLS Regression Results                            \n",
       "==============================================================================\n",
       "Dep. Variable:                 target   R-squared:                       0.760\n",
       "Model:                            OLS   Adj. R-squared:                  0.753\n",
       "Method:                 Least Squares   F-statistic:                     112.9\n",
       "Date:                Tue, 15 Jun 2021   Prob (F-statistic):          3.91e-114\n",
       "Time:                        16:22:40   Log-Likelihood:                -1185.2\n",
       "No. Observations:                 404   AIC:                             2394.\n",
       "Df Residuals:                     392   BIC:                             2442.\n",
       "Df Model:                          11                                         \n",
       "Covariance Type:            nonrobust                                         \n",
       "==============================================================================\n",
       "                 coef    std err          t      P>|t|      [0.025      0.975]\n",
       "------------------------------------------------------------------------------\n",
       "const         35.7455      5.587      6.398      0.000      24.761      46.730\n",
       "0             -0.1104      0.037     -3.005      0.003      -0.183      -0.038\n",
       "1              0.0485      0.015      3.278      0.001       0.019       0.078\n",
       "3              2.4121      0.908      2.655      0.008       0.626       4.198\n",
       "4            -20.0254      3.923     -5.104      0.000     -27.738     -12.312\n",
       "5              4.0384      0.450      8.976      0.000       3.154       4.923\n",
       "7             -1.5944      0.206     -7.727      0.000      -2.000      -1.189\n",
       "8              0.2819      0.069      4.084      0.000       0.146       0.418\n",
       "9             -0.0116      0.004     -3.203      0.001      -0.019      -0.004\n",
       "10            -0.9127      0.142     -6.430      0.000      -1.192      -0.634\n",
       "11             0.0093      0.003      3.036      0.003       0.003       0.015\n",
       "12            -0.4940      0.053     -9.291      0.000      -0.598      -0.389\n",
       "==============================================================================\n",
       "Omnibus:                      152.332   Durbin-Watson:                   1.815\n",
       "Prob(Omnibus):                  0.000   Jarque-Bera (JB):              717.608\n",
       "Skew:                           1.576   Prob(JB):                    1.49e-156\n",
       "Kurtosis:                       8.718   Cond. No.                     1.49e+04\n",
       "==============================================================================\n",
       "\n",
       "Notes:\n",
       "[1] Standard Errors assume that the covariance matrix of the errors is correctly specified.\n",
       "[2] The condition number is large, 1.49e+04. This might indicate that there are\n",
       "strong multicollinearity or other numerical problems.\n",
       "\"\"\""
      ]
     },
     "execution_count": 75,
     "metadata": {},
     "output_type": "execute_result"
    }
   ],
   "source": [
    "X_df_train = sm.add_constant(X_df_train)\n",
    "results = sm.OLS(Y_df_train, X_df_train).fit()\n",
    "results.summary()"
   ]
  },
  {
   "cell_type": "code",
   "execution_count": 76,
   "id": "69339c71",
   "metadata": {},
   "outputs": [
    {
     "name": "stdout",
     "output_type": "stream",
     "text": [
      "Train root mean squared error : 4.548462391889019\n",
      "Test  root mean squared error : 5.212138657916526\n"
     ]
    }
   ],
   "source": [
    "X_df_test = sm.add_constant(X_df_test)\n",
    "train_prediction = results.predict(X_df_train)\n",
    "test_prediction = results.predict(X_df_test)\n",
    "print(\"Train root mean squared error : {}\".format(rmse(Y_df_train, train_prediction)))\n",
    "print(\"Test  root mean squared error : {}\".format(rmse(Y_df_test, test_prediction)))"
   ]
  },
  {
   "cell_type": "markdown",
   "id": "b7f643f5",
   "metadata": {},
   "source": [
    "__(2) What are potential problems with implementing kNN on a very large dataset?__"
   ]
  },
  {
   "cell_type": "markdown",
   "id": "06f993d3",
   "metadata": {},
   "source": [
    "Büyük veri setiyle çalışmanın getireceği ilk problem işlem yüküdür. Veri ve özelikler arttıkça yapılacak işlem sayısı artar. Diğer bir problem ise hafızadır. İkili mesafeler hafızada saklanmalı ve sıralanmalıdır. Bu yüzden yüksek miktarda bellek alanına gereksinim duyulur."
   ]
  },
  {
   "cell_type": "markdown",
   "id": "ef1be2c7",
   "metadata": {},
   "source": [
    "__(3) Describe the training set and test set accuracy as the value of K increases?__"
   ]
  },
  {
   "cell_type": "code",
   "execution_count": 84,
   "id": "32dff810",
   "metadata": {},
   "outputs": [],
   "source": [
    "train_score = []\n",
    "test_score = []\n",
    "n = []\n",
    "for i in range(1,11):\n",
    "    knn = neighbors.KNeighborsRegressor(n_neighbors = i)\n",
    "    knn.fit(X_scaler_train , Y_scaler_train)\n",
    "    train_pred = knn.predict(X_scaler_train)\n",
    "    test_pred = knn.predict(X_scaler_test)\n",
    "    n.append(i)\n",
    "    train_score.append(knn.score(X_scaler_train , Y_scaler_train))\n",
    "    test_score.append(knn.score(X_scaler_test , Y_scaler_test))\n"
   ]
  },
  {
   "cell_type": "code",
   "execution_count": 85,
   "id": "5e4e8d3c",
   "metadata": {},
   "outputs": [
    {
     "data": {
      "image/png": "[encoded data removed]",
      "text/plain": [
       "<Figure size 720x360 with 1 Axes>"
      ]
     },
     "metadata": {
      "needs_background": "light"
     },
     "output_type": "display_data"
    }
   ],
   "source": [
    "plt.figure(figsize = (10,5))\n",
    "plt.plot(n , train_score , label = \"train score\")\n",
    "plt.plot(n , test_score , label = \"test score\")\n",
    "plt.legend()\n",
    "plt.show()"
   ]
  },
  {
   "cell_type": "markdown",
   "id": "f23893ef",
   "metadata": {},
   "source": [
    "__(4) Which one of the statements are true:__"
   ]
  },
  {
   "cell_type": "markdown",
   "id": "0758719f",
   "metadata": {},
   "source": [
    "- KNN performs much better if all of the data have the same scale : True\n",
    "- KNN works well with a small number of input variables (p), but struggles when the number of inputs is very large : True\n",
    "- KNN makes no assumptions about the functional form of the problem being solved : True"
   ]
  },
  {
   "cell_type": "markdown",
   "id": "636e2edf",
   "metadata": {},
   "source": [
    "__(5) Calculate the distance between A(1,3) and B(2,3) based on Euclidean and Manhattan__"
   ]
  },
  {
   "cell_type": "code",
   "execution_count": 79,
   "id": "03ec8816",
   "metadata": {},
   "outputs": [],
   "source": [
    "def Euclidean(A,B):\n",
    "    distance = 0\n",
    "    if (len(A) == len(B)):\n",
    "        for i in range(0,len(A)):\n",
    "            distance = distance + (A[i] - B[i]) ** 2\n",
    "        return distance ** 0.5     \n",
    "    else : \n",
    "        return 'Euclidean uzaklığı aynı boyutta veriler için hesaplanır'\n",
    "        \n",
    "def Manhattan(A,B):\n",
    "    distance = 0\n",
    "    if (len(A) == len(B)):\n",
    "        for i in range(0,len(A)):\n",
    "            distance = distance + np.abs(A[i] - B[i])\n",
    "        return distance    \n",
    "    else : \n",
    "        return 'Manhattan uzaklığı aynı boyutta veriler için hesaplanır'"
   ]
  },
  {
   "cell_type": "code",
   "execution_count": 80,
   "id": "03bd150a",
   "metadata": {},
   "outputs": [
    {
     "data": {
      "text/plain": [
       "1.0"
      ]
     },
     "execution_count": 80,
     "metadata": {},
     "output_type": "execute_result"
    }
   ],
   "source": [
    "A = (1,3)\n",
    "B = (2,3)\n",
    "Euclidean(A,B)"
   ]
  },
  {
   "cell_type": "code",
   "execution_count": 81,
   "id": "a8b27d86",
   "metadata": {},
   "outputs": [
    {
     "data": {
      "text/plain": [
       "1"
      ]
     },
     "execution_count": 81,
     "metadata": {},
     "output_type": "execute_result"
    }
   ],
   "source": [
    "Manhattan(A,B)"
   ]
  },
  {
   "cell_type": "code",
   "execution_count": null,
   "id": "22e0dc35",
   "metadata": {},
   "outputs": [],
   "source": []
  }
 ],
 "metadata": {
  "kernelspec": {
   "display_name": "Python 3",
   "language": "python",
   "name": "python3"
  },
  "language_info": {
   "codemirror_mode": {
    "name": "ipython",
    "version": 3
   },
   "file_extension": ".py",
   "mimetype": "text/x-python",
   "name": "python",
   "nbconvert_exporter": "python",
   "pygments_lexer": "ipython3",
   "version": "3.8.8"
  }
 },
 "nbformat": 4,
 "nbformat_minor": 5
}
